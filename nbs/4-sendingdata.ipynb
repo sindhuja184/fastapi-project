{
 "cells": [
  {
   "cell_type": "code",
   "execution_count": 1,
   "id": "a0a3dc6d",
   "metadata": {},
   "outputs": [
    {
     "name": "stdout",
     "output_type": "stream",
     "text": [
      "Hello\n"
     ]
    }
   ],
   "source": [
    "print(\"Hello\")"
   ]
  },
  {
   "cell_type": "code",
   "execution_count": 3,
   "id": "92e31270",
   "metadata": {},
   "outputs": [
    {
     "data": {
      "text/plain": [
       "'http://localhost:8000/api/events'"
      ]
     },
     "execution_count": 3,
     "metadata": {},
     "output_type": "execute_result"
    }
   ],
   "source": [
    "import requests \n",
    "base_url = 'http://localhost:8000'\n",
    "path = '/api/events'\n",
    "\n",
    "end_point = f\"{base_url}{path}\"\n",
    "end_point"
   ]
  },
  {
   "cell_type": "code",
   "execution_count": 5,
   "id": "4f2ca996",
   "metadata": {},
   "outputs": [],
   "source": [
    "response = requests.post(end_point)"
   ]
  },
  {
   "cell_type": "code",
   "execution_count": 9,
   "id": "d01d11a2",
   "metadata": {},
   "outputs": [
    {
     "name": "stdout",
     "output_type": "stream",
     "text": [
      "{\"id\":123}\n",
      "True\n"
     ]
    }
   ],
   "source": [
    "print(response.text)\n",
    "print(response.ok)"
   ]
  },
  {
   "cell_type": "code",
   "execution_count": 10,
   "id": "7ece27a4",
   "metadata": {},
   "outputs": [],
   "source": [
    "import requests \n",
    "base_url = 'http://localhost:8000'\n",
    "path = '/api/events'\n",
    "\n",
    "end_point = f\"{base_url}{path}\"\n",
    "response = requests.post(end_point)"
   ]
  },
  {
   "cell_type": "code",
   "execution_count": 12,
   "id": "1f7e8785",
   "metadata": {},
   "outputs": [
    {
     "name": "stdout",
     "output_type": "stream",
     "text": [
      "{'date': 'Thu, 24 Apr 2025 18:13:59 GMT', 'server': 'uvicorn', 'content-length': '10', 'content-type': 'application/json'}\n",
      "{\"id\":123}\n",
      "True\n"
     ]
    }
   ],
   "source": [
    "print(response.headers)\n",
    "print(response.text)\n",
    "print(response.ok)"
   ]
  },
  {
   "cell_type": "code",
   "execution_count": 20,
   "id": "44982233",
   "metadata": {},
   "outputs": [
    {
     "name": "stdout",
     "output_type": "stream",
     "text": [
      "{'id': 123} <class 'dict'> None\n"
     ]
    }
   ],
   "source": [
    "data = {\"page\" : \"/test+\"}\n",
    "response = requests.post(end_point, json=data)\n",
    "\n",
    "\n",
    "if response.ok:\n",
    "    data = response.json()\n",
    "    print(data, type(data), data.get('items'))\n",
    "else :\n",
    "    print(\"Not\")"
   ]
  },
  {
   "cell_type": "code",
   "execution_count": null,
   "id": "73a000e8",
   "metadata": {},
   "outputs": [],
   "source": []
  }
 ],
 "metadata": {
  "kernelspec": {
   "display_name": ".venv",
   "language": "python",
   "name": "python3"
  },
  "language_info": {
   "codemirror_mode": {
    "name": "ipython",
    "version": 3
   },
   "file_extension": ".py",
   "mimetype": "text/x-python",
   "name": "python",
   "nbconvert_exporter": "python",
   "pygments_lexer": "ipython3",
   "version": "3.10.0"
  }
 },
 "nbformat": 4,
 "nbformat_minor": 5
}
