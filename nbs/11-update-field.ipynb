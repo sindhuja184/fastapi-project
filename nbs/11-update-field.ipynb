{
 "cells": [
  {
   "cell_type": "code",
   "execution_count": 1,
   "id": "410a03e1",
   "metadata": {},
   "outputs": [
    {
     "data": {
      "text/plain": [
       "'http://localhost:8000/api/events/'"
      ]
     },
     "execution_count": 1,
     "metadata": {},
     "output_type": "execute_result"
    }
   ],
   "source": [
    "import requests\n",
    "\n",
    "path = '/api/events/'\n",
    "base_url = 'http://localhost:8000'\n",
    "\n",
    "end_point = f\"{base_url}{path}\"\n",
    "end_point\n"
   ]
  },
  {
   "cell_type": "code",
   "execution_count": 2,
   "id": "8eb5f02f",
   "metadata": {},
   "outputs": [
    {
     "name": "stdout",
     "output_type": "stream",
     "text": [
      "{'date': 'Sat, 26 Apr 2025 14:14:46 GMT', 'server': 'uvicorn', 'content-length': '87', 'content-type': 'application/json'}\n",
      "ok True\n",
      "{'created_at': '2025-04-26T14:14:47.317338Z', 'id': 2, 'page': '/text+', 'description': '123'} <class 'dict'> None\n"
     ]
    }
   ],
   "source": [
    "response = requests.post(end_point, json = {\"page\": \"/text+\", \"description\": \"123\"})\n",
    "\n",
    "print(response.headers)\n",
    "\n",
    "print(\"ok\", response.ok)\n",
    "\n",
    "if response.ok:\n",
    "    data = response.json()\n",
    "    print(data, type(data), data.get('items'))\n",
    "\n",
    "else :\n",
    "    print(response.text)"
   ]
  },
  {
   "cell_type": "code",
   "execution_count": null,
   "id": "b2ea7e3b",
   "metadata": {},
   "outputs": [],
   "source": []
  },
  {
   "cell_type": "markdown",
   "id": "1b95b2ca",
   "metadata": {},
   "source": [
    "#### Now, using put method"
   ]
  },
  {
   "cell_type": "code",
   "execution_count": 9,
   "id": "45f36fb9",
   "metadata": {},
   "outputs": [
    {
     "data": {
      "text/plain": [
       "'http://localhost:8000/api/events/6'"
      ]
     },
     "execution_count": 9,
     "metadata": {},
     "output_type": "execute_result"
    }
   ],
   "source": [
    "import requests\n",
    "\n",
    "detail_path = '/api/events/6'\n",
    "base_url = 'http://localhost:8000'\n",
    "\n",
    "detail_endpoint = f\"{base_url}{detail_path}\"\n",
    "\n",
    "detail_endpoint"
   ]
  },
  {
   "cell_type": "code",
   "execution_count": null,
   "id": "4a60dfe6",
   "metadata": {},
   "outputs": [
    {
     "name": "stdout",
     "output_type": "stream",
     "text": [
      "{'date': 'Sat, 26 Apr 2025 14:23:16 GMT', 'server': 'uvicorn', 'content-length': '21', 'content-type': 'text/plain; charset=utf-8'}\n",
      "False\n"
     ]
    }
   ],
   "source": [
    "response = requests.put(detail_endpoint, json = {\"description\":\"inline test\"})\n",
    "print(response.headers)\n",
    "\n",
    "if response.ok:\n",
    "    data = response.json()\n",
    "    print(data, type(data), data.get('items'))\n",
    "else :\n",
    "    print(response.ok)\n",
    "\n"
   ]
  },
  {
   "cell_type": "code",
   "execution_count": 18,
   "id": "af0247bf",
   "metadata": {},
   "outputs": [
    {
     "name": "stdout",
     "output_type": "stream",
     "text": [
      "{'date': 'Sat, 26 Apr 2025 15:35:00 GMT', 'server': 'uvicorn', 'content-length': '138', 'content-type': 'application/json'}\n",
      "{'updated_at': '2025-04-26T15:35:00.061647Z', 'page': '/test+', 'description': 'inline test', 'created_at': '2025-04-26T15:34:39.574200Z', 'id': 2} <class 'dict'> None\n"
     ]
    }
   ],
   "source": [
    "import requests\n",
    "\n",
    "# Set up URLs properly\n",
    "detail_path = '/api/events/2'\n",
    "base_url = 'http://localhost:8000'\n",
    "detail_endpoint = f\"{base_url}{detail_path}\"\n",
    "\n",
    "# Now make the request\n",
    "response = requests.put(detail_endpoint, json={\"description\": \"inline test\"})\n",
    "\n",
    "# Print response headers\n",
    "print(response.headers)\n",
    "\n",
    "# Check if request was successful\n",
    "if response.ok:\n",
    "    data = response.json()\n",
    "    print(data, type(data), data.get('items'))\n",
    "else:\n",
    "\n",
    "    print(response.status_code)\n",
    "    print(response.text)  # <-- Important to debug what error FastAPI is returning\n"
   ]
  },
  {
   "cell_type": "code",
   "execution_count": null,
   "id": "7c8f14dc",
   "metadata": {},
   "outputs": [],
   "source": []
  }
 ],
 "metadata": {
  "kernelspec": {
   "display_name": ".venv",
   "language": "python",
   "name": "python3"
  },
  "language_info": {
   "codemirror_mode": {
    "name": "ipython",
    "version": 3
   },
   "file_extension": ".py",
   "mimetype": "text/x-python",
   "name": "python",
   "nbconvert_exporter": "python",
   "pygments_lexer": "ipython3",
   "version": "3.10.0"
  }
 },
 "nbformat": 4,
 "nbformat_minor": 5
}
