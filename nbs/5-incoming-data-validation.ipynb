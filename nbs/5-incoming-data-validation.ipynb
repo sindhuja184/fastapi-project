{
 "cells": [
  {
   "cell_type": "code",
   "execution_count": 27,
   "id": "25dfe668",
   "metadata": {},
   "outputs": [],
   "source": [
    "import requests \n",
    "import json\n",
    "base_url = 'http://localhost:8000'\n",
    "path = '/api/events'\n",
    "\n",
    "end_point = f\"{base_url}{path}\"\n",
    "response = requests.post(end_point)"
   ]
  },
  {
   "cell_type": "code",
   "execution_count": 28,
   "id": "a078ce52",
   "metadata": {},
   "outputs": [
    {
     "data": {
      "text/plain": [
       "'http://localhost:8000/api/events'"
      ]
     },
     "execution_count": 28,
     "metadata": {},
     "output_type": "execute_result"
    }
   ],
   "source": [
    "end_point"
   ]
  },
  {
   "cell_type": "code",
   "execution_count": 29,
   "id": "8bcbabf5",
   "metadata": {},
   "outputs": [
    {
     "name": "stdout",
     "output_type": "stream",
     "text": [
      "{'date': 'Fri, 25 Apr 2025 04:38:11 GMT', 'server': 'uvicorn', 'content-length': '43', 'content-type': 'application/json'}\n",
      "ok  True\n"
     ]
    }
   ],
   "source": [
    "headers = {\n",
    "    'content-type': 'application/json'\n",
    "}\n",
    "data = {\"page\":\"/test+\"}\n",
    "response  = requests.post(end_point, data= json.dumps(data), headers = headers)\n",
    "print(response.headers)\n",
    "print(\"ok \", response.ok)"
   ]
  },
  {
   "cell_type": "code",
   "execution_count": 30,
   "id": "03851ca5",
   "metadata": {},
   "outputs": [
    {
     "name": "stdout",
     "output_type": "stream",
     "text": [
      "{'date': 'Fri, 25 Apr 2025 04:38:12 GMT', 'server': 'uvicorn', 'content-length': '43', 'content-type': 'application/json'}\n",
      "True\n",
      "{'id': 123, 'page': '/test+', 'description': ''} <class 'dict'> None\n"
     ]
    }
   ],
   "source": [
    "import requests\n",
    "import json\n",
    "\n",
    "headers = {\n",
    "    'content-type': 'application/json'\n",
    "}\n",
    "data = {\"page\": \"/test+\"}  # This must match what FastAPI expects\n",
    "response = requests.post(end_point, data=json.dumps(data), headers=headers)\n",
    "\n",
    "print(response.headers)\n",
    "print(response.ok)\n",
    "\n",
    "if response.ok:\n",
    "    data = response.json()\n",
    "    print(data, type(data), data.get('items'))\n",
    "else:\n",
    "    print(response.text)\n"
   ]
  },
  {
   "cell_type": "code",
   "execution_count": 26,
   "id": "95015291",
   "metadata": {},
   "outputs": [
    {
     "name": "stdout",
     "output_type": "stream",
     "text": [
      "{'date': 'Fri, 25 Apr 2025 04:31:20 GMT', 'server': 'uvicorn', 'content-length': '19', 'content-type': 'application/json'}\n",
      "{'id': 12, 'page': ''} <class 'dict'> 12\n"
     ]
    }
   ],
   "source": [
    "#Checking the update schema\n",
    "\n",
    "detail_path = '/api/events/12/'\n",
    "detail_endpoint = f\"{base_url}{detail_path}\"\n",
    "\n",
    "\n",
    "response = requests.put(detail_endpoint, json = {\"description\": \"Hello World\"})\n",
    "\n",
    "print(response.headers)\n",
    "\n",
    "if response.ok:\n",
    "    data = response.json()\n",
    "    print(data, type(data), data.get('id'))\n",
    "else:\n",
    "    print(response.text)"
   ]
  },
  {
   "cell_type": "code",
   "execution_count": null,
   "id": "56d6e4ba",
   "metadata": {},
   "outputs": [],
   "source": []
  }
 ],
 "metadata": {
  "kernelspec": {
   "display_name": ".venv",
   "language": "python",
   "name": "python3"
  },
  "language_info": {
   "codemirror_mode": {
    "name": "ipython",
    "version": 3
   },
   "file_extension": ".py",
   "mimetype": "text/x-python",
   "name": "python",
   "nbconvert_exporter": "python",
   "pygments_lexer": "ipython3",
   "version": "3.10.0"
  }
 },
 "nbformat": 4,
 "nbformat_minor": 5
}
