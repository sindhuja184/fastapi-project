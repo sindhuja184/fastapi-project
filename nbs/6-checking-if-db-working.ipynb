{
 "cells": [
  {
   "cell_type": "code",
   "execution_count": 7,
   "id": "946176f2",
   "metadata": {},
   "outputs": [
    {
     "data": {
      "text/plain": [
       "'http://localhost:8000/api/events/'"
      ]
     },
     "execution_count": 7,
     "metadata": {},
     "output_type": "execute_result"
    }
   ],
   "source": [
    "import requests \n",
    "path = '/api/events/'\n",
    "base_url = 'http://localhost:8000'\n",
    "\n",
    "create_endpoint = f\"{base_url}{path}\"\n",
    "create_endpoint\n"
   ]
  },
  {
   "cell_type": "code",
   "execution_count": 10,
   "id": "6a9f2ddb",
   "metadata": {},
   "outputs": [
    {
     "name": "stdout",
     "output_type": "stream",
     "text": [
      "{'date': 'Sat, 26 Apr 2025 15:34:39 GMT', 'server': 'uvicorn', 'content-length': '130', 'content-type': 'application/json'}\n",
      "ok True\n",
      "{'updated_at': '2025-04-26T15:34:39.574200Z', 'page': '/test+', 'description': '123', 'created_at': '2025-04-26T15:34:39.574200Z', 'id': 2} <class 'dict'> None\n"
     ]
    }
   ],
   "source": [
    "#Got error cause dint include life san function in app\n",
    "\n",
    "response = requests.post(create_endpoint, json = {\"page\": \"/test+\", \"description\": \"123\"})\n",
    "print(response.headers)\n",
    "print(\"ok\", response.ok)\n",
    "\n",
    "if response.ok:\n",
    "    data = response.json()\n",
    "    print(data, type(data), data.get('items'))\n",
    "else:\n",
    "    print(response.text)"
   ]
  },
  {
   "cell_type": "code",
   "execution_count": null,
   "id": "8b062702",
   "metadata": {},
   "outputs": [],
   "source": []
  },
  {
   "cell_type": "code",
   "execution_count": null,
   "id": "a66db26c",
   "metadata": {},
   "outputs": [],
   "source": []
  }
 ],
 "metadata": {
  "kernelspec": {
   "display_name": ".venv",
   "language": "python",
   "name": "python3"
  },
  "language_info": {
   "codemirror_mode": {
    "name": "ipython",
    "version": 3
   },
   "file_extension": ".py",
   "mimetype": "text/x-python",
   "name": "python",
   "nbconvert_exporter": "python",
   "pygments_lexer": "ipython3",
   "version": "3.10.0"
  }
 },
 "nbformat": 4,
 "nbformat_minor": 5
}
