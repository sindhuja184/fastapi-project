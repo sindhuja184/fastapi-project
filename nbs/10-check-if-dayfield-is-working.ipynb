{
 "cells": [
  {
   "cell_type": "code",
   "execution_count": 1,
   "id": "d0ab7c61",
   "metadata": {},
   "outputs": [
    {
     "name": "stdout",
     "output_type": "stream",
     "text": [
      "Lecture 10\n"
     ]
    }
   ],
   "source": [
    "print(\"Lecture 10\")"
   ]
  },
  {
   "cell_type": "code",
   "execution_count": null,
   "id": "2f575f56",
   "metadata": {},
   "outputs": [
    {
     "data": {
      "text/plain": [
       "'http://localhost:8000/api/events/'"
      ]
     },
     "execution_count": 7,
     "metadata": {},
     "output_type": "execute_result"
    }
   ],
   "source": [
    "import requests\n",
    "\n",
    "path = '/api/events/'\n",
    "base_url = 'http://localhost:8000'\n",
    "\n",
    "create_endpoint = f\"{base_url}{path}\"\n",
    "\n",
    "create_endpoint"
   ]
  },
  {
   "cell_type": "code",
   "execution_count": 8,
   "id": "a2b66e9a",
   "metadata": {},
   "outputs": [
    {
     "name": "stdout",
     "output_type": "stream",
     "text": [
      "{'date': 'Fri, 25 Apr 2025 13:13:23 GMT', 'server': 'uvicorn', 'content-length': '21', 'content-type': 'text/plain; charset=utf-8'}\n",
      "Internal Server Error\n"
     ]
    }
   ],
   "source": [
    "response = requests.post(create_endpoint, json = {\"page\": \"/text+\", \"description\": '123'})\n",
    "\n",
    "print(response.headers)\n",
    "\n",
    "if response.ok:\n",
    "    data = response.json()\n",
    "    print(data, type(data), data.get('items'))\n",
    "else:\n",
    "    print(response.text)"
   ]
  },
  {
   "cell_type": "code",
   "execution_count": 10,
   "id": "84600150",
   "metadata": {},
   "outputs": [
    {
     "name": "stdout",
     "output_type": "stream",
     "text": [
      "{'date': 'Fri, 25 Apr 2025 13:16:02 GMT', 'server': 'uvicorn', 'content-length': '87', 'content-type': 'application/json'}\n",
      "{'page': '/text+', 'description': '123', 'created_at': '2025-04-25T13:16:02.655962Z', 'id': 1} <class 'dict'> None\n"
     ]
    }
   ],
   "source": [
    "import requests\n",
    "\n",
    "path = '/api/events/'\n",
    "base_url = 'http://localhost:8000'\n",
    "\n",
    "create_endpoint = f\"{base_url}{path}\"\n",
    "\n",
    "response = requests.post(create_endpoint, json={\"page\": \"/text+\", \"description\": '123'})\n",
    "\n",
    "print(response.headers)\n",
    "\n",
    "if response.ok:\n",
    "    data = response.json()\n",
    "    print(data, type(data), data.get('items'))\n",
    "else:\n",
    "    print(response.text)\n"
   ]
  },
  {
   "cell_type": "code",
   "execution_count": 11,
   "id": "6eb7e927",
   "metadata": {},
   "outputs": [],
   "source": [
    "# #Error I faced \n",
    "# default_factory= get_utc_now(),\n",
    "# #Correction\n",
    "# default_factory= get_utc_now,\n"
   ]
  },
  {
   "cell_type": "code",
   "execution_count": null,
   "id": "f0599499",
   "metadata": {},
   "outputs": [],
   "source": []
  }
 ],
 "metadata": {
  "kernelspec": {
   "display_name": ".venv",
   "language": "python",
   "name": "python3"
  },
  "language_info": {
   "codemirror_mode": {
    "name": "ipython",
    "version": 3
   },
   "file_extension": ".py",
   "mimetype": "text/x-python",
   "name": "python",
   "nbconvert_exporter": "python",
   "pygments_lexer": "ipython3",
   "version": "3.10.0"
  }
 },
 "nbformat": 4,
 "nbformat_minor": 5
}
