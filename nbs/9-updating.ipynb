{
 "cells": [
  {
   "cell_type": "code",
   "execution_count": 5,
   "id": "0c488e8f",
   "metadata": {},
   "outputs": [
    {
     "data": {
      "text/plain": [
       "'http://localhost:8000/api/events/3/'"
      ]
     },
     "execution_count": 5,
     "metadata": {},
     "output_type": "execute_result"
    }
   ],
   "source": [
    "import requests\n",
    "\n",
    "detail_path = '/api/events/3/'\n",
    "base_url = 'http://localhost:8000'\n",
    "\n",
    "detail_endpoint = f\"{base_url}{detail_path}\"\n",
    "detail_endpoint"
   ]
  },
  {
   "cell_type": "code",
   "execution_count": 7,
   "id": "ef014fa0",
   "metadata": {},
   "outputs": [
    {
     "name": "stdout",
     "output_type": "stream",
     "text": [
      "{'date': 'Fri, 25 Apr 2025 11:43:09 GMT', 'server': 'uvicorn', 'content-length': '52', 'content-type': 'application/json'}\n",
      "Ok True\n",
      "{'page': '/test+', 'description': 'inline-test', 'id': 3} <class 'dict'> 3\n"
     ]
    }
   ],
   "source": [
    "response = requests.put(detail_endpoint, json = {\"description\":\"inline-test\"})\n",
    "print(response.headers)\n",
    "\n",
    "print(\"Ok\", response.ok)\n",
    "\n",
    "if response.ok:\n",
    "    data = response.json()\n",
    "    print(data, type(data), data.get('id'))\n",
    "else:\n",
    "    print(response.text)"
   ]
  },
  {
   "cell_type": "code",
   "execution_count": 6,
   "id": "f05afc84",
   "metadata": {},
   "outputs": [
    {
     "name": "stdout",
     "output_type": "stream",
     "text": [
      "200\n",
      "{\"page\":\"/test+\",\"description\":\"\",\"id\":3}\n"
     ]
    }
   ],
   "source": [
    "response = requests.get(detail_endpoint)\n",
    "print(response.status_code)\n",
    "print(response.text)\n"
   ]
  },
  {
   "cell_type": "code",
   "execution_count": 8,
   "id": "3ec3ff2a",
   "metadata": {},
   "outputs": [],
   "source": [
    "#We can update only existing record\n"
   ]
  },
  {
   "cell_type": "code",
   "execution_count": null,
   "id": "e7cc618d",
   "metadata": {},
   "outputs": [],
   "source": []
  }
 ],
 "metadata": {
  "kernelspec": {
   "display_name": ".venv",
   "language": "python",
   "name": "python3"
  },
  "language_info": {
   "codemirror_mode": {
    "name": "ipython",
    "version": 3
   },
   "file_extension": ".py",
   "mimetype": "text/x-python",
   "name": "python",
   "nbconvert_exporter": "python",
   "pygments_lexer": "ipython3",
   "version": "3.10.0"
  }
 },
 "nbformat": 4,
 "nbformat_minor": 5
}
