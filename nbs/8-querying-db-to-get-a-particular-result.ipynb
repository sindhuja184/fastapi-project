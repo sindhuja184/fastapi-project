{
 "cells": [
  {
   "cell_type": "code",
   "execution_count": 6,
   "id": "2190eb1f",
   "metadata": {},
   "outputs": [
    {
     "data": {
      "text/plain": [
       "'http://localhost:8000/api/events/3'"
      ]
     },
     "execution_count": 6,
     "metadata": {},
     "output_type": "execute_result"
    }
   ],
   "source": [
    "import requests\n",
    "from pprint import pprint\n",
    "path = '/api/events/3'\n",
    "base_url = 'http://localhost:8000'\n",
    "\n",
    "end_point = f\"{base_url}{path}\"\n",
    "end_point"
   ]
  },
  {
   "cell_type": "code",
   "execution_count": 8,
   "id": "ec7d39e8",
   "metadata": {},
   "outputs": [
    {
     "name": "stdout",
     "output_type": "stream",
     "text": [
      "Ok  True\n",
      "{'description': '', 'id': 3, 'page': '/test+'}\n"
     ]
    }
   ],
   "source": [
    "response = requests.get(end_point)\n",
    "print(\"Ok \", response.ok)\n",
    "\n",
    "if response.ok:\n",
    "    data = response.json()\n",
    "    pprint(data)"
   ]
  },
  {
   "cell_type": "code",
   "execution_count": 9,
   "id": "9ef8556d",
   "metadata": {},
   "outputs": [],
   "source": [
    "#Go to notebook nmber 7|"
   ]
  },
  {
   "cell_type": "code",
   "execution_count": null,
   "id": "2abdd08b",
   "metadata": {},
   "outputs": [],
   "source": []
  }
 ],
 "metadata": {
  "kernelspec": {
   "display_name": ".venv",
   "language": "python",
   "name": "python3"
  },
  "language_info": {
   "codemirror_mode": {
    "name": "ipython",
    "version": 3
   },
   "file_extension": ".py",
   "mimetype": "text/x-python",
   "name": "python",
   "nbconvert_exporter": "python",
   "pygments_lexer": "ipython3",
   "version": "3.10.0"
  }
 },
 "nbformat": 4,
 "nbformat_minor": 5
}
