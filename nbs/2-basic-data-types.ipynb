{
 "cells": [
  {
   "cell_type": "code",
   "execution_count": 7,
   "id": "01b936c3",
   "metadata": {},
   "outputs": [
    {
     "name": "stdout",
     "output_type": "stream",
     "text": [
      "http://localhost:8000/api/events/1\n",
      "{\"id\":1}\n"
     ]
    }
   ],
   "source": [
    "import requests\n",
    "\n",
    "base_url= 'http://localhost:8000'\n",
    "path=  '/api/events/1'\n",
    "\n",
    "end_point = f\"{base_url}{path}\"\n",
    "\n",
    "response = requests.get(end_point)\n",
    "print(end_point)\n",
    "print(response.text)"
   ]
  },
  {
   "cell_type": "code",
   "execution_count": 6,
   "id": "971e14ab",
   "metadata": {},
   "outputs": [
    {
     "name": "stdout",
     "output_type": "stream",
     "text": [
      "{\"detail\":[{\"type\":\"int_parsing\",\"loc\":[\"path\",\"event_id\"],\"msg\":\"Input should be a valid integer, unable to parse string as an integer\",\"input\":\"Sindhuaj\"}]}\n"
     ]
    }
   ],
   "source": [
    "import requests\n",
    "\n",
    "base_url= 'http://localhost:8000'\n",
    "path=  '/api/events/Sindhuaj'\n",
    "\n",
    "end_point = f\"{base_url}{path}\"\n",
    "\n",
    "response = requests.get(end_point)\n",
    "\n",
    "print(response.text)"
   ]
  },
  {
   "cell_type": "code",
   "execution_count": null,
   "id": "20e952b5",
   "metadata": {},
   "outputs": [],
   "source": []
  }
 ],
 "metadata": {
  "kernelspec": {
   "display_name": ".venv",
   "language": "python",
   "name": "python3"
  },
  "language_info": {
   "codemirror_mode": {
    "name": "ipython",
    "version": 3
   },
   "file_extension": ".py",
   "mimetype": "text/x-python",
   "name": "python",
   "nbconvert_exporter": "python",
   "pygments_lexer": "ipython3",
   "version": "3.10.0"
  }
 },
 "nbformat": 4,
 "nbformat_minor": 5
}
