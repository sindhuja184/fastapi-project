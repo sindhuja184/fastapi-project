{
 "cells": [
  {
   "cell_type": "code",
   "execution_count": 2,
   "id": "e642db4c",
   "metadata": {},
   "outputs": [
    {
     "data": {
      "text/plain": [
       "'http://localhost:8000/api/events'"
      ]
     },
     "execution_count": 2,
     "metadata": {},
     "output_type": "execute_result"
    }
   ],
   "source": [
    "import requests\n",
    "from pprint import pprint\n",
    "path = '/api/events'\n",
    "base_url = 'http://localhost:8000'\n",
    "\n",
    "end_point = f\"{base_url}{path}\"\n",
    "end_point"
   ]
  },
  {
   "cell_type": "code",
   "execution_count": 3,
   "id": "f329d537",
   "metadata": {},
   "outputs": [
    {
     "name": "stdout",
     "output_type": "stream",
     "text": [
      "Ok True\n",
      "{'count': 2,\n",
      " 'results': [{'created_at': '2025-04-26T15:34:39.574200Z',\n",
      "              'description': 'inline test',\n",
      "              'id': 2,\n",
      "              'page': '/test+',\n",
      "              'updated_at': '2025-04-26T15:35:00.061647Z'},\n",
      "             {'created_at': '2025-04-26T15:34:30.037089Z',\n",
      "              'description': '123',\n",
      "              'id': 1,\n",
      "              'page': '/test+',\n",
      "              'updated_at': '2025-04-26T15:34:30.037089Z'}]}\n"
     ]
    }
   ],
   "source": [
    "response = requests.get(end_point)\n",
    "print(\"Ok\", response.ok)\n",
    "\n",
    "if response.ok:\n",
    "    data = response.json()\n",
    "    pprint(data)\n",
    "\n",
    "#We can limit the number of items retrieved\n",
    "#Can print in the descending order\n",
    "\n"
   ]
  },
  {
   "cell_type": "code",
   "execution_count": 15,
   "id": "a262891b",
   "metadata": {},
   "outputs": [
    {
     "data": {
      "text/plain": [
       "'http://localhost:8000/api/events/3'"
      ]
     },
     "execution_count": 15,
     "metadata": {},
     "output_type": "execute_result"
    }
   ],
   "source": [
    "import requests\n",
    "from pprint import pprint\n",
    "path = '/api/events/3'\n",
    "base_url = 'http://localhost:8000'\n",
    "\n",
    "end_point = f\"{base_url}{path}\"\n",
    "end_point\n"
   ]
  },
  {
   "cell_type": "code",
   "execution_count": 16,
   "id": "7963d0f6",
   "metadata": {},
   "outputs": [
    {
     "name": "stdout",
     "output_type": "stream",
     "text": [
      "Ok  True\n",
      "{'description': '', 'id': 3, 'page': '/test+'}\n"
     ]
    }
   ],
   "source": [
    "response = requests.get(end_point)\n",
    "print(\"Ok \", response.ok)\n",
    "\n",
    "if response.ok:\n",
    "    data = response.json()\n",
    "    pprint(data)"
   ]
  },
  {
   "cell_type": "code",
   "execution_count": 17,
   "id": "e292d048",
   "metadata": {},
   "outputs": [
    {
     "name": "stdout",
     "output_type": "stream",
     "text": [
      "Ok  False\n"
     ]
    }
   ],
   "source": [
    "import requests\n",
    "from pprint import pprint\n",
    "path = '/api/events/90'\n",
    "base_url = 'http://localhost:8000'\n",
    "\n",
    "end_point = f\"{base_url}{path}\"\n",
    "\n",
    "response = requests.get(end_point)\n",
    "print(\"Ok \", response.ok)\n",
    "\n",
    "if response.ok:\n",
    "    data = response.json()\n",
    "    pprint(data)"
   ]
  },
  {
   "cell_type": "code",
   "execution_count": null,
   "id": "d95c5669",
   "metadata": {},
   "outputs": [],
   "source": []
  }
 ],
 "metadata": {
  "kernelspec": {
   "display_name": ".venv",
   "language": "python",
   "name": "python3"
  },
  "language_info": {
   "codemirror_mode": {
    "name": "ipython",
    "version": 3
   },
   "file_extension": ".py",
   "mimetype": "text/x-python",
   "name": "python",
   "nbconvert_exporter": "python",
   "pygments_lexer": "ipython3",
   "version": "3.10.0"
  }
 },
 "nbformat": 4,
 "nbformat_minor": 5
}
